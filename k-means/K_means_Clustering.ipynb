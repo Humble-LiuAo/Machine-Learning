{
  "nbformat": 4,
  "nbformat_minor": 0,
  "metadata": {
    "colab": {
      "name": "K-means Clustering.ipynb",
      "provenance": [],
      "collapsed_sections": [],
      "mount_file_id": "16Z3Qr5GEVFpT3XWKA9AZVhy4z8eqQXzt",
      "authorship_tag": "ABX9TyPOmR+3IfuH3BmvBgprqSbx",
      "include_colab_link": true
    },
    "kernelspec": {
      "name": "python3",
      "display_name": "Python 3"
    },
    "language_info": {
      "name": "python"
    }
  },
  "cells": [
    {
      "cell_type": "markdown",
      "metadata": {
        "id": "view-in-github",
        "colab_type": "text"
      },
      "source": [
        "<a href=\"https://colab.research.google.com/github/Humble-LiuAo/Deep-learning/blob/main/k-means/K_means_Clustering.ipynb\" target=\"_parent\"><img src=\"https://colab.research.google.com/assets/colab-badge.svg\" alt=\"Open In Colab\"/></a>"
      ]
    },
    {
      "cell_type": "code",
      "metadata": {
        "colab": {
          "base_uri": "https://localhost:8080/"
        },
        "id": "9-8y-jx1EwRI",
        "outputId": "6dc934e2-7674-43e2-9622-e4fab36b28f7"
      },
      "source": [
        "from google.colab import drive\n",
        "drive.mount('/content/drive')"
      ],
      "execution_count": 1,
      "outputs": [
        {
          "output_type": "stream",
          "name": "stdout",
          "text": [
            "Mounted at /content/drive\n"
          ]
        }
      ]
    },
    {
      "cell_type": "code",
      "metadata": {
        "id": "13Emb7ElF4fP"
      },
      "source": [
        "import os\n",
        "workplace = 'ML'\n",
        "try:\n",
        "    os.chdir(os.path.join('/content/drive/MyDrive', workplace))\n",
        "except:\n",
        "    os.mkdir(os.path.join('/content/drive/MyDrive', workplace))\n",
        "    os.chdir(os.path.join('/content/drive/MyDrive', workplace))"
      ],
      "execution_count": 1,
      "outputs": []
    },
    {
      "cell_type": "markdown",
      "metadata": {
        "id": "ClxZRQXLOmmg"
      },
      "source": [
        "## Import package"
      ]
    },
    {
      "cell_type": "code",
      "metadata": {
        "id": "RH_Q5x_RyPPj"
      },
      "source": [
        "#matrix math\n",
        "import numpy as np\n",
        "#graphing\n",
        "import matplotlib.pyplot as plt\n",
        "#graphing animation\n",
        "import matplotlib.animation as animation"
      ],
      "execution_count": 2,
      "outputs": []
    },
    {
      "cell_type": "markdown",
      "metadata": {
        "id": "tti1uO8wOsIu"
      },
      "source": [
        "## Dataset"
      ]
    },
    {
      "cell_type": "code",
      "metadata": {
        "id": "bVerQBgF2IDc"
      },
      "source": [
        "#load textfile dataset (2D data points)\n",
        "# for each user, how many packets are sent per second and what's the size of a packet\n",
        "#anomalies (DDOS attempts) will have lots of big packets sent in a short amount of time \n",
        "def load_dataset(name):\n",
        "    return np.loadtxt(name)"
      ],
      "execution_count": 3,
      "outputs": []
    },
    {
      "cell_type": "code",
      "metadata": {
        "colab": {
          "base_uri": "https://localhost:8080/"
        },
        "id": "VCsXnFKqPaJs",
        "outputId": "19a115fe-d2ee-4d7e-c90d-7bdb588f050e"
      },
      "source": [
        "#set the dataset\n",
        "dataset = load_dataset('durudataset.txt')\n",
        "print(dataset.shape)\n",
        "dataset[0:5,:]"
      ],
      "execution_count": 4,
      "outputs": [
        {
          "output_type": "stream",
          "name": "stdout",
          "text": [
            "(40, 2)\n"
          ]
        },
        {
          "output_type": "execute_result",
          "data": {
            "text/plain": [
              "array([[0.19670575, 0.26617497],\n",
              "       [0.41328699, 0.35582835],\n",
              "       [0.33843555, 0.43573826],\n",
              "       [0.10380152, 0.16434481],\n",
              "       [0.15905236, 0.32505901]])"
            ]
          },
          "metadata": {},
          "execution_count": 4
        }
      ]
    },
    {
      "cell_type": "code",
      "metadata": {
        "colab": {
          "base_uri": "https://localhost:8080/",
          "height": 296
        },
        "id": "4q1wsnd2IIgN",
        "outputId": "4e228c16-64b3-4bd9-9fbe-ed78414a3d2b"
      },
      "source": [
        "x1 = dataset[:,0:dataset.shape[1] - 1]\n",
        "x2 = dataset[:,-1]\n",
        "plt.xlabel('x1')\n",
        "plt.ylabel('x2')\n",
        "plt.scatter(x1,x2, c='r')"
      ],
      "execution_count": 5,
      "outputs": [
        {
          "output_type": "execute_result",
          "data": {
            "text/plain": [
              "<matplotlib.collections.PathCollection at 0x7f1ed83d20d0>"
            ]
          },
          "metadata": {},
          "execution_count": 5
        },
        {
          "output_type": "display_data",
          "data": {
            "image/png": "[encoded data removed]",
            "text/plain": [
              "<Figure size 432x288 with 1 Axes>"
            ]
          },
          "metadata": {
            "needs_background": "light"
          }
        }
      ]
    },
    {
      "cell_type": "markdown",
      "metadata": {
        "id": "9EcfcFW_PxSv"
      },
      "source": [
        "## 欧式距离"
      ]
    },
    {
      "cell_type": "markdown",
      "metadata": {
        "id": "iEsKSpo0JNk1"
      },
      "source": [
        "![image.png](data:image/png;base64,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)"
      ]
    },
    {
      "cell_type": "code",
      "metadata": {
        "id": "tTSTmhVp5Hwv"
      },
      "source": [
        "#euclidian distance between 2 data points. For as many data points as necessary. \n",
        "def euclidian(a, b):\n",
        "    return np.linalg.norm(a-b)"
      ],
      "execution_count": 6,
      "outputs": []
    },
    {
      "cell_type": "code",
      "metadata": {
        "colab": {
          "base_uri": "https://localhost:8080/"
        },
        "id": "6srJ_y0qP1On",
        "outputId": "60a52cf6-db41-4299-d4e7-5da1167d8476"
      },
      "source": [
        "x = [2,3]\n",
        "y = [4,6]\n",
        "a = np.array(x)\n",
        "b = np.array(y)\n",
        "euclidian(a,b)"
      ],
      "execution_count": 7,
      "outputs": [
        {
          "output_type": "execute_result",
          "data": {
            "text/plain": [
              "3.605551275463989"
            ]
          },
          "metadata": {},
          "execution_count": 7
        }
      ]
    },
    {
      "cell_type": "markdown",
      "metadata": {
        "id": "xy-DMQ13Qtl7"
      },
      "source": [
        "## k-means algorithm"
      ]
    },
    {
      "cell_type": "markdown",
      "metadata": {
        "id": "42xDKNUBJtuG"
      },
      "source": [
        "O k-means algorithm With the above steps, since we needed to build our algorithm, which will receive as parameters:\n",
        "\n",
        "* K: The number of clusters (required)\n",
        "* epsilon: The minimum error to be used in the stop condition (optional, default == 0)\n",
        "* Distance: The method is used to calculate the distance (Optional defalut == 0) And has the return:\n",
        "* the centroids\n",
        "* The evolution history of centroids\n",
        "* And the membership vector of each instance with its respective centroid"
      ]
    },
    {
      "cell_type": "code",
      "metadata": {
        "id": "xsEU9NpI5PfO"
      },
      "source": [
        "def kmeans(k, epsilon=0, distance='euclidian'):\n",
        "    #list to store past centroid\n",
        "    history_centroids = []\n",
        "    history_belongs = []\n",
        "    #set the distance calculation type \n",
        "    if distance == 'euclidian':\n",
        "        dist_method = euclidian\n",
        "    # get the number of rows (instances) and columns (features) from the dataset\n",
        "    num_instances, num_features = dataset.shape\n",
        "    #define k centroids (how many clusters do we want to find?) chosen randomly \n",
        "    prototypes = dataset[np.random.randint(0, num_instances - 1, size=k)]\n",
        "    #set these to our list of past centroid (to show progress over time)\n",
        "    history_centroids.append(prototypes)\n",
        "    #to keep track of centroid at every iteration\n",
        "    prototypes_old = np.zeros(prototypes.shape)\n",
        "    #to store clusters\n",
        "    belongs_to = np.zeros((num_instances, 1))\n",
        "    norm = dist_method(prototypes, prototypes_old)\n",
        "    iteration = 0\n",
        "    while norm > epsilon and iteration < 10:\n",
        "        iteration += 1\n",
        "        norm = dist_method(prototypes, prototypes_old)\n",
        "        # temp belongs_to\n",
        "        temp_belongs_to = np.zeros((num_instances, 1))\n",
        "        #for each instance in the dataset\n",
        "        for index_instance, instance in enumerate(dataset):\n",
        "            #define a distance vector of size k\n",
        "            dist_vec = np.zeros((k,1))\n",
        "            #for each centroid\n",
        "            for index_prototype, prototype in enumerate(prototypes):\n",
        "                #compute the distance between x and centroid\n",
        "                dist_vec[index_prototype] = dist_method(prototype, instance)\n",
        "            #find the smallest distance, assign that distance to a cluster\n",
        "            temp_belongs_to[index_instance] = np.argmin(dist_vec)\n",
        "            \n",
        "        tmp_prototypes = np.zeros((k, num_features))\n",
        "        prototypes_old = prototypes\n",
        "\n",
        "        #for each cluster (k of them)\n",
        "        for index in range(len(prototypes)):\n",
        "            #get all the points assigned to a cluster\n",
        "            instances_close = [i for i in range(len(temp_belongs_to)) if temp_belongs_to[i] == index]\n",
        "            #find the mean of those points, this is our new centroid\n",
        "            prototype = np.mean(dataset[instances_close], axis=0)\n",
        "            #add our new centroid to our new temporary list\n",
        "            tmp_prototypes[index, :] = prototype\n",
        "        \n",
        "        #set the new list to the current list\n",
        "        prototypes = tmp_prototypes\n",
        "        belongs_to = temp_belongs_to\n",
        "\n",
        "        \n",
        "        #add our calculated centroids to our history for plotting\n",
        "        #Python是基于对象引用的，append添加的是一个“地址、引用”，当这个地址内的内容改变时，前面的同“地址”的内容都改变\n",
        "        #每次循环都创建一个temp变量然后append\n",
        "        history_centroids.append(tmp_prototypes)\n",
        "        history_belongs.append(temp_belongs_to)\n",
        "\n",
        "    #return calculated centroids, history of them all, and assignments for which cluster each datapoint belongs to\n",
        "    return prototypes, history_centroids, belongs_to, history_belongs, iteration\n"
      ],
      "execution_count": 37,
      "outputs": []
    },
    {
      "cell_type": "markdown",
      "metadata": {
        "id": "AkU72F3YS8Rv"
      },
      "source": [
        "## Plot"
      ]
    },
    {
      "cell_type": "code",
      "metadata": {
        "id": "5lhiTPMNV5on"
      },
      "source": [
        "#lets define a plotting algorithm for our dataset and our centroids\n",
        "def plot(dataset, centroids, belongs_to, k):\n",
        "    #we'll have 2 colors for each centroid cluster\n",
        "    colors = ['r', 'g']\n",
        "\n",
        "    #split our graph by its axis and actual plot\n",
        "    fig, ax = plt.subplots()\n",
        "\n",
        "    #for each point in our dataset\n",
        "    for index in range(k):\n",
        "        #get all the points assigned to a cluster\n",
        "        instances_close = [i for i in range(len(belongs_to)) if belongs_to[i] == index]\n",
        "        #assign each datapoint in that cluster a color and plot it\n",
        "        for instance_index in instances_close:\n",
        "            ax.plot(dataset[instance_index][0], dataset[instance_index][1], (colors[index] + 'o'))\n",
        "\n",
        "    for i in range(len(centroids)):\n",
        "        ax.plot(centroids[i][0], centroids[i][1], 'bo')\n",
        "    plt.show()   "
      ],
      "execution_count": 38,
      "outputs": []
    },
    {
      "cell_type": "markdown",
      "metadata": {
        "id": "65NXG0U10Os-"
      },
      "source": [
        "## main"
      ]
    },
    {
      "cell_type": "code",
      "metadata": {
        "id": "tzL1s9cNKjC8",
        "colab": {
          "base_uri": "https://localhost:8080/",
          "height": 282
        },
        "outputId": "65d3763d-b6c0-40c1-d077-7fa2e34f2ac4"
      },
      "source": [
        "#train the model on the data\n",
        "centroids, history_centroids, belongs_to, history_belongs, iteration = kmeans(2)\n",
        "#plot the results\n",
        "plot(dataset, centroids, belongs_to, 2)\n",
        "iteration"
      ],
      "execution_count": 45,
      "outputs": [
        {
          "output_type": "display_data",
          "data": {
            "image/png": "[encoded data removed]",
            "text/plain": [
              "<Figure size 432x288 with 1 Axes>"
            ]
          },
          "metadata": {
            "needs_background": "light"
          }
        },
        {
          "output_type": "execute_result",
          "data": {
            "text/plain": [
              "5"
            ]
          },
          "metadata": {},
          "execution_count": 45
        }
      ]
    },
    {
      "cell_type": "markdown",
      "metadata": {
        "id": "bf5y6wgb0UsY"
      },
      "source": [
        "## plot each step centriods"
      ]
    },
    {
      "cell_type": "code",
      "metadata": {
        "id": "YPZvzUBRKwhG",
        "colab": {
          "base_uri": "https://localhost:8080/",
          "height": 1000
        },
        "outputId": "8d0b03e2-fd5e-41dd-9d22-712cb7ca7ac4"
      },
      "source": [
        "for i, item in enumerate(history_centroids):\n",
        "    try:\n",
        "        plot(dataset, item, history_belongs[i], 2)\n",
        "    except:\n",
        "        pass"
      ],
      "execution_count": 46,
      "outputs": [
        {
          "output_type": "display_data",
          "data": {
            "image/png": "[encoded data removed]",
            "text/plain": [
              "<Figure size 432x288 with 1 Axes>"
            ]
          },
          "metadata": {
            "needs_background": "light"
          }
        },
        {
          "output_type": "display_data",
          "data": {
            "image/png": "[encoded data removed]",
            "text/plain": [
              "<Figure size 432x288 with 1 Axes>"
            ]
          },
          "metadata": {
            "needs_background": "light"
          }
        },
        {
          "output_type": "display_data",
          "data": {
            "image/png": "[encoded data removed]",
            "text/plain": [
              "<Figure size 432x288 with 1 Axes>"
            ]
          },
          "metadata": {
            "needs_background": "light"
          }
        },
        {
          "output_type": "display_data",
          "data": {
            "image/png": "[encoded data removed]",
            "text/plain": [
              "<Figure size 432x288 with 1 Axes>"
            ]
          },
          "metadata": {
            "needs_background": "light"
          }
        },
        {
          "output_type": "display_data",
          "data": {
            "image/png": "[encoded data removed]",
            "text/plain": [
              "<Figure size 432x288 with 1 Axes>"
            ]
          },
          "metadata": {
            "needs_background": "light"
          }
        }
      ]
    }
  ]
}